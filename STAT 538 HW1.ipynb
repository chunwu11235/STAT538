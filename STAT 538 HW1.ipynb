{
 "cells": [
  {
   "cell_type": "markdown",
   "metadata": {},
   "source": [
    "# STAT 538 HW1Ming-Chun Wu 1724945"
   ]
  },
  {
   "cell_type": "markdown",
   "metadata": {},
   "source": [
    "## Problem 1"
   ]
  },
  {
   "cell_type": "code",
   "execution_count": 10,
   "metadata": {},
   "outputs": [
    {
     "name": "stdout",
     "output_type": "stream",
     "text": [
      "Iteration 1\n",
      "Label [1 0 1 1 0 0]\n",
      "Centroid\n",
      "[[ 3.66666667  1.66666667]\n",
      " [ 2.          3.        ]]\n",
      "==========\n",
      "Iteration 2\n",
      "Label [1 1 1 0 0 0]\n",
      "Centroid\n",
      "[[ 5.          1.        ]\n",
      " [ 0.66666667  3.66666667]]\n",
      "==========\n",
      "Iteration 3\n",
      "Label [1 1 1 0 0 0]\n",
      "Centroid\n",
      "[[ 5.          1.        ]\n",
      " [ 0.66666667  3.66666667]]\n"
     ]
    },
    {
     "data": {
      "image/png": "[encoded data removed]",
      "text/plain": [
       "<matplotlib.figure.Figure at 0x1a1d48d320>"
      ]
     },
     "metadata": {},
     "output_type": "display_data"
    }
   ],
   "source": [
    "import numpy as np\n",
    "import matplotlib.pyplot as plt\n",
    "from sklearn.decomposition import PCA\n",
    "from sklearn.cluster import KMeans\n",
    "\n",
    "Data1 = np.array( [ [1,4],[1,3],[0,4],[5,1],[6,2],[4,0] ]  )\n",
    "\n",
    "\n",
    "# (b) randomly initialize label\n",
    "label = np.asarray( [0,0,0,0,0,0] )\n",
    "label[ np.random.choice(range(6),3,False)  ] = 1\n",
    "centroid = np.empty([2,2])\n",
    "\n",
    "\n",
    "# (c)(d)(e) KMeans\n",
    "error = np.Inf\n",
    "iteration = 0\n",
    "while True:\n",
    "    iteration += 1\n",
    "    centroid[0] = np.mean( Data1[ label == 0, : ], axis = 0 )\n",
    "    centroid[1] = np.mean( Data1[ label == 1, : ], axis = 0 )\n",
    "    \n",
    "    print(\"Iteration\", iteration)\n",
    "    print(\"Label\",label)\n",
    "    print(\"Centroid\")\n",
    "    print(centroid)\n",
    "    \n",
    "    error_new = 0\n",
    "    for i in range(6):\n",
    "        d0 = np.linalg.norm( centroid[0] - Data1[i,:] )\n",
    "        d1 = np.linalg.norm( centroid[1] - Data1[i,:] )\n",
    "        if d0<=d1:\n",
    "            label[i] = 0\n",
    "        else:\n",
    "            label[i] = 1\n",
    "        \n",
    "        error_new += np.linalg.norm( Data1[i,:] - centroid[ label[i] ]   )**2\n",
    "    \n",
    "    if error == error_new:\n",
    "        break\n",
    "    else:\n",
    "        error = error_new\n",
    "        \n",
    "    print(\"==========\")\n",
    "\n",
    "# (a)(f) visualization\n",
    "plt.scatter( Data1[:,0], Data1[:,1], c = label, cmap = 'Set1')\n",
    "plt.scatter( centroid[:,0], centroid[:,1], c = [0,1], s = 50, marker = 'x' , cmap = 'Set1')\n",
    "plt.title('Problem 1')\n",
    "plt.show()"
   ]
  },
  {
   "cell_type": "markdown",
   "metadata": {},
   "source": [
    "## Problem 2\n",
    "\n",
    "\n",
    "\n",
    "\n",
    "\n",
    "\n",
    "\n",
    "\n"
   ]
  },
  {
   "cell_type": "markdown",
   "metadata": {
    "collapsed": true
   },
   "source": [
    "Assume we label the eight shoppers as 1,2,...8 (from left to right)\n",
    "1. Left figure: in this case, socks has higher effect on similarity, so I expect the clusters are assigned based on the number of socks. On cluster corresponds to shoppers with high numbers of socks, and the other cluster corresponds to shoppers that only purchased small numbers of socks. So the clusters might be {1,2,3,7,8} and {5,6}\n",
    "\n",
    "2. Middle figure: In this case, we need both consider the effects of socks and computer. I would expect that {1,2,3,4} and {5,6,7,8} are the two clusters, since {5,6,7,8} all purchased the same amount of computers and similar amounts of socks.\n",
    "\n",
    "3. Right figure: We only need to account for the feature \"computer\", so the clusters should be {1,2,3,4} and {5,6,7,8}.\n"
   ]
  },
  {
   "cell_type": "markdown",
   "metadata": {},
   "source": [
    "## Problem 3"
   ]
  },
  {
   "cell_type": "code",
   "execution_count": 11,
   "metadata": {},
   "outputs": [
    {
     "data": {
      "image/png": "[encoded data removed]",
      "text/plain": [
       "<matplotlib.figure.Figure at 0x10fb45908>"
      ]
     },
     "metadata": {},
     "output_type": "display_data"
    }
   ],
   "source": [
    "# (a)generate data\n",
    "n = 20\n",
    "p = 50\n",
    "\n",
    "m1 = np.ones([n,p])\n",
    "X1 = np.random.normal(0,1,[n,p])\n",
    "X1 = X1 + m1\n",
    "\n",
    "X2 = np.random.normal(0,1,[n,p])\n",
    "\n",
    "X3 = np.random.normal(0,1,[n,p])\n",
    "m3 = np.zeros([n,p])\n",
    "m3[:,1:25] = -1\n",
    "X3 += m3\n",
    "X = np.vstack( [X1,X2,X3] )\n",
    "label = np.repeat( [1,2,3] , 20)\n",
    "\n",
    "\n",
    "# (b) pca\n",
    "pca = PCA(2)\n",
    "X_low = pca.fit_transform(X)\n",
    "\n",
    "plt.scatter(X_low[:,0], X_low[:,1], c = label, cmap = 'Set1')\n",
    "plt.xlabel('first principle component')\n",
    "plt.ylabel('second principle component')\n",
    "plt.title('Data in the first two principle directions')\n",
    "plt.show()"
   ]
  },
  {
   "cell_type": "code",
   "execution_count": 12,
   "metadata": {},
   "outputs": [
    {
     "name": "stdout",
     "output_type": "stream",
     "text": [
      "True Label [1 1 1 1 1 1 1 1 1 1 1 1 1 1 1 1 1 1 1 1 2 2 2 2 2 2 2 2 2 2 2 2 2 2 2 2 2\n",
      " 2 2 2 3 3 3 3 3 3 3 3 3 3 3 3 3 3 3 3 3 3 3 3]\n",
      "KMeans     [0 0 0 0 0 0 0 0 0 0 0 0 0 0 0 0 0 0 0 0 2 2 2 2 2 2 2 2 2 2 2 2 2 2 2 2 2\n",
      " 2 2 2 1 1 1 1 1 1 1 2 1 1 1 1 1 1 1 1 1 1 1 1]\n"
     ]
    }
   ],
   "source": [
    "# KMeans\n",
    "# (c) K = 3\n",
    "km3 = KMeans(3)\n",
    "km3.fit(X)\n",
    "label_km3 = km3.labels_ \n",
    "print('True Label', label)\n",
    "print('KMeans    ', label_km3)\n",
    "\n",
    "# Comment: Only two mis-cluster error"
   ]
  },
  {
   "cell_type": "code",
   "execution_count": 13,
   "metadata": {},
   "outputs": [
    {
     "name": "stdout",
     "output_type": "stream",
     "text": [
      "True Label [1 1 1 1 1 1 1 1 1 1 1 1 1 1 1 1 1 1 1 1 2 2 2 2 2 2 2 2 2 2 2 2 2 2 2 2 2\n",
      " 2 2 2 3 3 3 3 3 3 3 3 3 3 3 3 3 3 3 3 3 3 3 3]\n",
      "KMeans     [1 1 1 1 1 1 1 1 1 1 1 1 1 1 1 1 1 1 1 1 0 0 0 0 0 0 0 0 0 0 0 0 0 0 0 0 0\n",
      " 1 1 0 0 0 0 0 0 0 0 0 0 0 0 0 0 0 0 0 0 0 0 0]\n"
     ]
    }
   ],
   "source": [
    "# (d) K = 2\n",
    "km2 = KMeans(2)\n",
    "km2.fit(X)\n",
    "label_km2 = km2.labels_ \n",
    "print('True Label', label)\n",
    "print('KMeans    ', label_km2)\n",
    "\n",
    "# Comment: Roughly speaking, cluster 2 and cluster 3 are merged together by KMeans"
   ]
  },
  {
   "cell_type": "code",
   "execution_count": 14,
   "metadata": {},
   "outputs": [
    {
     "name": "stdout",
     "output_type": "stream",
     "text": [
      "True Label [1 1 1 1 1 1 1 1 1 1 1 1 1 1 1 1 1 1 1 1 2 2 2 2 2 2 2 2 2 2 2 2 2 2 2 2 2\n",
      " 2 2 2 3 3 3 3 3 3 3 3 3 3 3 3 3 3 3 3 3 3 3 3]\n",
      "KMeans     [2 2 2 2 2 2 2 2 2 2 2 2 2 2 2 2 2 2 2 2 0 0 1 1 0 1 0 0 0 1 1 1 1 1 1 0 1\n",
      " 1 1 1 3 3 3 3 3 3 3 1 3 3 3 3 3 3 3 1 3 3 3 3]\n"
     ]
    }
   ],
   "source": [
    "# (e) K = 4\n",
    "km4 = KMeans(4)\n",
    "km4.fit(X)\n",
    "label_km4 = km4.labels_ \n",
    "print('True Label', label)\n",
    "print('KMeans    ', label_km4)\n",
    "\n",
    "#Comment: Roughly speaking, cluster 2, the middle cluster (see Figure in part(b)), is seperated into two subgroups."
   ]
  },
  {
   "cell_type": "code",
   "execution_count": 15,
   "metadata": {},
   "outputs": [
    {
     "name": "stdout",
     "output_type": "stream",
     "text": [
      "True Label [1 1 1 1 1 1 1 1 1 1 1 1 1 1 1 1 1 1 1 1 2 2 2 2 2 2 2 2 2 2 2 2 2 2 2 2 2\n",
      " 2 2 2 3 3 3 3 3 3 3 3 3 3 3 3 3 3 3 3 3 3 3 3]\n",
      "KMeans     [0 0 0 0 0 0 0 0 0 0 0 0 0 0 0 0 0 0 0 0 1 1 1 1 1 1 1 1 1 1 1 1 1 1 1 1 1\n",
      " 1 1 1 2 2 2 2 2 2 2 2 2 2 2 2 2 2 2 2 2 2 2 2]\n"
     ]
    }
   ],
   "source": [
    "# (f) K = 3 on first 2 principle components\n",
    "km3_pca = KMeans(3)\n",
    "km3_pca.fit(X_low)\n",
    "label_km3_pca = km3_pca.labels_ \n",
    "print('True Label', label)\n",
    "print('KMeans    ', label_km3_pca)\n",
    "\n",
    "# Comment: only two errors, which is identical with applying KMeans on the raw data.\n",
    "# This means the first two principle components are good enough to present the raw data."
   ]
  },
  {
   "cell_type": "code",
   "execution_count": 16,
   "metadata": {},
   "outputs": [
    {
     "name": "stdout",
     "output_type": "stream",
     "text": [
      "True Label [1 1 1 1 1 1 1 1 1 1 1 1 1 1 1 1 1 1 1 1 2 2 2 2 2 2 2 2 2 2 2 2 2 2 2 2 2\n",
      " 2 2 2 3 3 3 3 3 3 3 3 3 3 3 3 3 3 3 3 3 3 3 3]\n",
      "KMeans     [0 0 0 0 0 0 0 0 0 0 0 0 0 0 0 0 0 0 0 0 2 2 2 2 2 2 2 2 2 2 2 2 2 2 2 2 2\n",
      " 2 2 2 1 1 1 1 1 1 1 2 1 1 1 1 1 1 1 1 1 1 1 1]\n"
     ]
    }
   ],
   "source": [
    "# (g) K = 3 after scaling\n",
    "from sklearn.preprocessing import scale\n",
    "X_scaled = scale( X, axis = 0, with_mean = False )\n",
    "\n",
    "km3_scaled = KMeans(3)\n",
    "km3_scaled.fit(X_scaled)\n",
    "label_km3_scaled = km3_scaled.labels_ \n",
    "print('True Label', label)\n",
    "print('KMeans    ', label_km3_scaled)\n",
    "\n",
    "# Comment: Only two errors, the same as (c). Scaling does not effect the performance in this case."
   ]
  },
  {
   "cell_type": "markdown",
   "metadata": {},
   "source": [
    "## Problem 4"
   ]
  },
  {
   "cell_type": "code",
   "execution_count": 17,
   "metadata": {
    "collapsed": true
   },
   "outputs": [],
   "source": [
    "# define SOM\n",
    "class SOM_2D(object):\n",
    "    \n",
    "    def __init__(self):\n",
    "        self.Map = {}\n",
    "        self.Error = []\n",
    "\n",
    "    \n",
    "       \n",
    "    # train a map\n",
    "    def train(self, X, q1, q2, n_iter, R):\n",
    "        \n",
    "        \n",
    "        self.q1 = q1\n",
    "        self.q2 = q2\n",
    "        \n",
    "        self.K = q1*q2\n",
    "        self.n, self.p = X.shape\n",
    "        \n",
    "        # initialize Map with randomly selected observations\n",
    "        selected = np.random.choice( range(self.n), self.K, False )\n",
    "        index = 0\n",
    "        for i in range(q1):\n",
    "            for j in range(q2):\n",
    "                \n",
    "                self.Map[ (i+1,j+1) ] = X[ selected[ index ]  , : ]\n",
    "                index += 1\n",
    "                \n",
    "        # training\n",
    "        self.cluster_indicator = {}\n",
    "        for iteration in range( n_iter ):\n",
    "            r = R - (R-1)*iteration/n_iter\n",
    "            alpha = ( n_iter - iteration )/n_iter\n",
    "            \n",
    "            i = iteration % self.n\n",
    "            x = X[i, :]\n",
    "            \n",
    "            # find m\n",
    "            l = self.find_l( x )\n",
    "            self.cluster_indicator[ i ] = l # assign x to cluster l\n",
    "            \n",
    "            # update map\n",
    "            for i in range(q1):\n",
    "                for j in range(q2):\n",
    "                    \n",
    "                    d = np.sqrt( (l[0] - (i+1))**2 + (l[1]-(j+1))**2 )\n",
    "                    if  d <= r :\n",
    "                        self.Map[(i+1,j+1)] = self.Map[(i+1,j+1)] + alpha*( x - self.Map[(i+1,j+1)] )\n",
    "            \n",
    "            # update error\n",
    "            if (iteration+1) % X.shape[0] == 0:\n",
    "                self.Error.append( self.error(X) )\n",
    "\n",
    "\n",
    "    # compute reconstruction error\n",
    "    def error(self, X):\n",
    "        error = 0\n",
    "        for i in range( X.shape[0] ):\n",
    "            l = self.cluster_indicator[i]\n",
    "            m = self.Map[l]\n",
    "            error += np.linalg.norm( X[i,:] - m  )**2\n",
    "            \n",
    "        return error\n",
    "        \n",
    "        \n",
    "\n",
    "    # cluster X based on the trained map   \n",
    "    def predict(self, X):\n",
    "        predict = np.empty( [ X.shape[0] ,2] )\n",
    "        for n in range( X.shape[0] ):\n",
    "            l = self.find_l( X[n,] )\n",
    "            predict[n,] = [ l[0], l[1] ]\n",
    "            \n",
    "        return predict\n",
    "            \n",
    "        \n",
    "    \n",
    "    \n",
    "    def visualization(self, X, label):\n",
    "        p = self.predict(X) + np.random.uniform( -0.1,0.1, [ X.shape[0] ,2] )\n",
    "        \n",
    "        plt.figure()\n",
    "        plt.scatter( p[:,0], p[:,1], c = label, s=10, cmap = 'Set1')\n",
    "        plt.title('Self-Organized Map')\n",
    "        plt.show()\n",
    "        \n",
    " \n",
    "\n",
    "\n",
    "                       \n",
    "    # find l that is closet to x\n",
    "    def find_l(self, x):\n",
    "    \n",
    "        d_opt = np.Inf\n",
    "        ans = (1,1)\n",
    "        for i in range(self.q1):\n",
    "            for j in range(self.q2):\n",
    "                d = sum(  ( x  - self.Map[ (i+1,j+1) ] )**2  )\n",
    "                if d < d_opt:\n",
    "                    ans = (i+1, j+1)\n",
    "                    d_opt = d\n",
    "        return ans\n",
    "                    \n",
    "        \n",
    "\n",
    "# simulated data    \n",
    "def simu_data( theta, phi ):     \n",
    "    x = np.sin(theta)*np.cos(phi)\n",
    "    y = np.sin(theta)*np.sin(phi)\n",
    "    z = np.cos(theta)\n",
    "    ans = np.stack( (x,y,z), axis = 1)\n",
    "    ans += np.random.normal( 0, 0.6, [ len(theta), 3 ] )\n",
    "    return ans\n"
   ]
  },
  {
   "cell_type": "code",
   "execution_count": 21,
   "metadata": {
    "scrolled": false
   },
   "outputs": [
    {
     "data": {
      "image/png": "[encoded data removed]",
      "text/plain": [
       "<matplotlib.figure.Figure at 0x1a1d7172e8>"
      ]
     },
     "metadata": {},
     "output_type": "display_data"
    },
    {
     "data": {
      "image/png": "[encoded data removed]",
      "text/plain": [
       "<matplotlib.figure.Figure at 0x1a1d6cc438>"
      ]
     },
     "metadata": {},
     "output_type": "display_data"
    }
   ],
   "source": [
    "## main\n",
    "\n",
    "# simulate data\n",
    "n = 30\n",
    "\n",
    "theta1 = np.random.uniform( -np.pi/8, np.pi/8, n)\n",
    "phi1 = np.random.uniform(0, 2*np.pi, n)\n",
    "\n",
    "theta2 = np.random.uniform( np.pi/4, 3*np.pi/4, n)\n",
    "phi2 = np.random.uniform(-np.pi/4, np.pi/4, n)\n",
    "\n",
    "theta3 = np.random.uniform( np.pi/4, 3*np.pi/4, n)\n",
    "phi3 = np.random.uniform( np.pi/4, 3*np.pi/4, n)\n",
    "\n",
    "theta = np.concatenate( (theta1, theta2, theta3), axis = 0 )\n",
    "phi = np.concatenate( (phi1, phi2, phi3) )\n",
    "\n",
    "X = simu_data( theta, phi ) # data\n",
    "label = np.concatenate(  [ np.ones(n), 3*np.ones(n), 5*np.ones(n)  ] )  # color label\n",
    "\n",
    "\n",
    "# SOM\n",
    "n = X.shape[0]\n",
    "n_iter = 3600\n",
    "R = 2\n",
    "q1 = 5\n",
    "q2 = 5\n",
    "som = SOM_2D()\n",
    "som.train(X, q1, q2, n_iter, R)\n",
    "som.visualization(X, label)\n",
    "\n",
    "\n",
    "# KMeans\n",
    "km = KMeans( 25 ).fit(X)\n",
    "km_error = km.inertia_\n",
    "\n",
    "# plots\n",
    "plt.figure()\n",
    "plt.plot( n*(np.arange(n_iter/n)+1), som.Error, label = 'SOM' )\n",
    "plt.plot( n*(np.arange(n_iter/n)+1), km_error*np.ones( int(n_iter/n ) ), label = 'KMeans' )\n",
    "plt.title('Reconstruction Error')\n",
    "plt.xlabel('iteration')\n",
    "plt.ylabel('Error')\n",
    "plt.legend()\n",
    "plt.show()\n",
    "\n"
   ]
  }
 ],
 "metadata": {
  "kernelspec": {
   "display_name": "Python 3",
   "language": "python",
   "name": "python3"
  },
  "language_info": {
   "codemirror_mode": {
    "name": "ipython",
    "version": 3
   },
   "file_extension": ".py",
   "mimetype": "text/x-python",
   "name": "python",
   "nbconvert_exporter": "python",
   "pygments_lexer": "ipython3",
   "version": "3.6.2"
  }
 },
 "nbformat": 4,
 "nbformat_minor": 2
}
