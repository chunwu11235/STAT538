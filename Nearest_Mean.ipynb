{
 "cells": [
  {
   "cell_type": "markdown",
   "metadata": {},
   "source": [
    "\n",
    "# Kernelized Nearest Mean Classifier on the Spam Mail Detection\n",
    "\n",
    "\n",
    "### Implementation of Nearest_Mean Classifier\n",
    "Given training data $\\{(x_i, y_i)\\}$ and kernel $k$, let $C_i = \\{ j:y_j =1 \\}$, the empirical mean element of class $i$ in RKHS is defined as\n",
    "$ \\mu_i = \\frac{1}{|C_i|}\\sum_{j \\in C_i} k( x_j, \\cdot ) $\n",
    "For a new data $x$, the nearest mean classifier predicts the label of $x$ using\n",
    "$$\n",
    "\\begin{align*}\n",
    "\\hat{y} \n",
    "& = \\arg \\min_{i}\\quad || k(x, \\cdot) - \\mu_i ||^2_{\\cal{H}} \\\\\n",
    "& = \\arg \\max_{i}\\quad \\langle  k(x,\\cdot), \\mu_i \\rangle_{\\mathcal{H}} - 0.5 ||\\mu_i ||^2_{\\cal{H}} \\\\\n",
    "& = \\arg \\max_{i}\\quad \\frac{1}{|C_i|}\\sum_{j \\in C_i} k( x_j, x ) \n",
    "- 0.5 \\frac{1}{|C_i|^2}\\sum_{a,b \\in C_i} k( a, b ) \\\\\n",
    "& = \\arg \\max_{i}\\quad \\mathrm{score}(x,i) \n",
    "&& \\mathrm{score}(x,i):= \\frac{1}{|C_i|}\\sum_{j \\in C_i} k( x_j, x ) \n",
    "- 0.5 \\frac{1}{|C_i|^2}\\sum_{a,b \\in C_i} k( a, b )\n",
    "\\end{align*}\n",
    "$$\n",
    "\n",
    "So, large score(x, i) means $x$ is close to the empirical mean element of class $i$ in the RKHS."
   ]
  },
  {
   "cell_type": "code",
   "execution_count": 15,
   "metadata": {
    "collapsed": true
   },
   "outputs": [],
   "source": [
    "import numpy as np\n",
    "import matplotlib.pyplot as plt\n",
    "from sklearn.datasets import fetch_lfw_people\n",
    "\n",
    "# nearest_mean classifier\n",
    "class Nearest_Mean():\n",
    "    \n",
    "    def __init__(self):\n",
    "        return\n",
    "        \n",
    "        \n",
    "    def train(self, X, y, kernel):\n",
    "        self.Data = X\n",
    "        self.label = y\n",
    "        self.n_classes = int( max(y) )+1\n",
    "        self.kernel = kernel\n",
    "        \n",
    "        self.n = [] # number of each class\n",
    "        self.mu = [] # squared norm of mean element of each class\n",
    "        self.Kernel = []\n",
    "        \n",
    "#        print( \"\\n---Nearest_Mean, Training---\" )\n",
    "#        print( \"size of data\", X.shape )\n",
    "        \n",
    "        for i in range(self.n_classes):\n",
    "            index = y == i\n",
    "            n_i = sum(index)\n",
    "            self.n.append( n_i )\n",
    "            \n",
    "            # the squared norm of mu_i\n",
    "            K = self.kernel.dot( X[index,:], X[index,:]  )\n",
    "            self.Kernel.append(K)\n",
    "            mu_i = K.sum()/ ( n_i**2 )\n",
    "            self.mu.append( mu_i )\n",
    "     \n",
    "    # predict the label of Xtest\n",
    "    def predict(self, Xtest):\n",
    "        \n",
    "        score = np.empty( [Xtest.shape[0], self.n_classes]  )\n",
    "        Kx = self.kernel.dot( Xtest, self.Data )\n",
    "        \n",
    "        \n",
    "        for i in range( self.n_classes ):\n",
    "            score[:,i] = Kx[:, self.label == i ].sum(1)/self.n[i] - 0.5*self.mu[i]\n",
    "        \n",
    "        self.score = score\n",
    "        self.pred = np.argmax( score, 1 )\n",
    "        return self.pred\n",
    "\n",
    "    \n",
    "    \n",
    "    # misclassification error of the given test set (Xtest, label_test)\n",
    "    def test_error(self, Xtest, label_test):\n",
    "        self.predict(Xtest)\n",
    "        return sum( (self.pred-label_test)!=0 )/len(label_test)\n",
    "\n",
    "\n",
    "\n",
    "# kernel object\n",
    "class Kernel:\n",
    "    def __init__(self):\n",
    "        return\n",
    "    \n",
    "    # set Kernel    \n",
    "    def setKernel(self, name, p):\n",
    "        self.name = name # type of kernel\n",
    "        self.para = p # hyper parameter\n",
    "        \n",
    "        \n",
    "    # return K, the inner product defined by the Kernel, \n",
    "    # Kij is the inner product of the i-th row of X1 and j-th row of X2\n",
    "    def dot(self, X1, X2):\n",
    "\n",
    "    \n",
    "        X1X2 = X1.dot(X2.T)\n",
    "        if self.name == 'Gaussian':\n",
    "            XX1 = np.matlib.repmat( np.diag( X1.dot(X1.T) ), X2.shape[0], 1 ).T\n",
    "            XX2 = np.matlib.repmat( np.diag( X2.dot(X2.T) ), X1.shape[0], 1 )\n",
    "            \n",
    "            return np.exp(- ( XX1+XX2-2*X1X2 )/(self.para**2) )\n",
    "        elif self.name == 'Vovk':\n",
    "            return (1 - (X1X2**self.para) ) /( 1 - X1X2 )\n",
    "        else:\n",
    "            raise ValueError \n"
   ]
  },
  {
   "cell_type": "code",
   "execution_count": 16,
   "metadata": {
    "collapsed": true
   },
   "outputs": [],
   "source": [
    "# start to do data analysis   \n",
    "# load data\n",
    "data = np.loadtxt(\"spam.txt\")\n",
    "label = data[:,-1]\n",
    "#label[ label == 0 ] = -1 # change label to +1,-1\n",
    "data = data[:,0:-1]\n",
    "\n",
    "\n",
    "# separate test set\n",
    "test_indicator = np.loadtxt(\"test.txt\")\n",
    "data_train = data[ test_indicator == 0, :]\n",
    "label_train = label[ test_indicator == 0 ]\n",
    "\n",
    "data_test = data[test_indicator == 1, :]\n",
    "label_test = label[test_indicator == 1]\n",
    "del data, label, test_indicator\n",
    "\n",
    "\n",
    "# normalized data\n",
    "data_train = scale(data_train)\n",
    "data_test = scale(data_test)\n",
    "\n",
    "\n",
    "# start to play with kernel\n",
    "kernel = Kernel()\n",
    "clf = Nearest_Mean()\n"
   ]
  },
  {
   "cell_type": "markdown",
   "metadata": {},
   "source": [
    "## Gaussian Kernel\n",
    "When $\\sigma$ large enough, say larger than 10, the performance converge to about 0.103 error rate."
   ]
  },
  {
   "cell_type": "code",
   "execution_count": 17,
   "metadata": {
    "scrolled": false
   },
   "outputs": [
    {
     "data": {
      "image/png": "[encoded data removed]",
      "text/plain": [
       "<matplotlib.figure.Figure at 0x1a1cb61be0>"
      ]
     },
     "metadata": {},
     "output_type": "display_data"
    }
   ],
   "source": [
    "# Gaussian\n",
    "Error_G = []\n",
    "Sigma = np.linspace(0.1, 35, 50)\n",
    "for sigma in Sigma:    \n",
    "    kernel.setKernel('Gaussian', sigma)\n",
    "    clf.train( data_train, label_train, kernel )\n",
    "    Error_G.append( clf.test_error(data_test, label_test) )\n",
    "\n",
    "plt.plot( Sigma, Error_G )\n",
    "plt.xlabel(r'$\\sigma$')\n",
    "plt.ylabel('misclassification error of test data')\n",
    "plt.title('Gaussian Kernel')\n",
    "plt.show()"
   ]
  },
  {
   "cell_type": "markdown",
   "metadata": {},
   "source": [
    "## Vovk Kernel\n",
    "The best performance happens when p = 2, where the error is about 0.105."
   ]
  },
  {
   "cell_type": "code",
   "execution_count": 18,
   "metadata": {},
   "outputs": [
    {
     "data": {
      "image/png": "[encoded data removed]",
      "text/plain": [
       "<matplotlib.figure.Figure at 0x1a1cbb62e8>"
      ]
     },
     "metadata": {},
     "output_type": "display_data"
    }
   ],
   "source": [
    "# Vovk\n",
    "Error_V = []\n",
    "P = np.linspace(1,20,20)\n",
    "for p in P:    \n",
    "    kernel.setKernel('Vovk', p)\n",
    "    clf.train( data_train, label_train, kernel )\n",
    "    Error_V.append( clf.test_error(data_test, label_test) )\n",
    "\n",
    "plt.plot( P, Error_V )\n",
    "plt.xlabel(r'$p$')\n",
    "plt.ylabel('misclassification error of test data')\n",
    "plt.title('Vovk Kernel')\n",
    "plt.show()"
   ]
  }
 ],
 "metadata": {
  "kernelspec": {
   "display_name": "Python 3",
   "language": "python",
   "name": "python3"
  },
  "language_info": {
   "codemirror_mode": {
    "name": "ipython",
    "version": 3
   },
   "file_extension": ".py",
   "mimetype": "text/x-python",
   "name": "python",
   "nbconvert_exporter": "python",
   "pygments_lexer": "ipython3",
   "version": "3.6.2"
  }
 },
 "nbformat": 4,
 "nbformat_minor": 2
}
